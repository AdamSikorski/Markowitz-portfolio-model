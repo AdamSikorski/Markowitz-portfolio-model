{
  "nbformat": 4,
  "nbformat_minor": 0,
  "metadata": {
    "colab": {
      "name": "Markowitz_optymalization.ipynb",
      "provenance": [],
      "authorship_tag": "ABX9TyPMjd8se7Mrodvd76UPPr9U",
      "include_colab_link": true
    },
    "kernelspec": {
      "name": "python3",
      "display_name": "Python 3"
    }
  },
  "cells": [
    {
      "cell_type": "markdown",
      "metadata": {
        "id": "view-in-github",
        "colab_type": "text"
      },
      "source": [
        "<a href=\"https://colab.research.google.com/github/Seeethy/Markowitz-portfolio-model-/blob/main/Markowitz_optymalization.ipynb\" target=\"_parent\"><img src=\"https://colab.research.google.com/assets/colab-badge.svg\" alt=\"Open In Colab\"/></a>"
      ]
    },
    {
      "cell_type": "code",
      "metadata": {
        "id": "LBtF-7wUcXf7"
      },
      "source": [
        "import pandas_datareader.data as web\r\n",
        "from datetime import date\r\n",
        "import datetime\r\n",
        "from dateutil.relativedelta import relativedelta\r\n",
        "import itertools\r\n",
        "import matplotlib.pyplot as plt\r\n",
        "import pylab as plot\r\n",
        "import numpy as np\r\n",
        "import pandas as pd\r\n",
        "\r\n",
        "tickers = ['TSLA','NFLX']\r\n",
        "today = date.today()\r\n",
        "end_date = today.strftime(\"%Y-%m-%d\")\r\n",
        "two_years_from_today = date.today() - relativedelta(years=5)\r\n",
        "start_date = two_years_from_today.strftime(\"%Y-%m-%d\")\r\n",
        "data_source = 'yahoo'\r\n",
        "data = web.DataReader(tickers, data_source, start_date, end_date)\r\n",
        "data_to_show1 =  web.DataReader(tickers[0], data_source, start_date, end_date)\r\n",
        "data_to_show2 =  web.DataReader(tickers[1], data_source, start_date, end_date)"
      ],
      "execution_count": 34,
      "outputs": []
    },
    {
      "cell_type": "code",
      "metadata": {
        "colab": {
          "base_uri": "https://localhost:8080/",
          "height": 431
        },
        "id": "0906BENMdrWX",
        "outputId": "d2029e0f-6daf-4f68-9da0-904e5a8a852e"
      },
      "source": [
        "data_to_show1"
      ],
      "execution_count": 35,
      "outputs": [
        {
          "output_type": "execute_result",
          "data": {
            "text/html": [
              "<div>\n",
              "<style scoped>\n",
              "    .dataframe tbody tr th:only-of-type {\n",
              "        vertical-align: middle;\n",
              "    }\n",
              "\n",
              "    .dataframe tbody tr th {\n",
              "        vertical-align: top;\n",
              "    }\n",
              "\n",
              "    .dataframe thead th {\n",
              "        text-align: right;\n",
              "    }\n",
              "</style>\n",
              "<table border=\"1\" class=\"dataframe\">\n",
              "  <thead>\n",
              "    <tr style=\"text-align: right;\">\n",
              "      <th></th>\n",
              "      <th>High</th>\n",
              "      <th>Low</th>\n",
              "      <th>Open</th>\n",
              "      <th>Close</th>\n",
              "      <th>Volume</th>\n",
              "      <th>Adj Close</th>\n",
              "    </tr>\n",
              "    <tr>\n",
              "      <th>Date</th>\n",
              "      <th></th>\n",
              "      <th></th>\n",
              "      <th></th>\n",
              "      <th></th>\n",
              "      <th></th>\n",
              "      <th></th>\n",
              "    </tr>\n",
              "  </thead>\n",
              "  <tbody>\n",
              "    <tr>\n",
              "      <th>2016-02-19</th>\n",
              "      <td>33.498001</td>\n",
              "      <td>32.500000</td>\n",
              "      <td>32.731998</td>\n",
              "      <td>33.316002</td>\n",
              "      <td>14797000.0</td>\n",
              "      <td>33.316002</td>\n",
              "    </tr>\n",
              "    <tr>\n",
              "      <th>2016-02-22</th>\n",
              "      <td>35.782001</td>\n",
              "      <td>33.970001</td>\n",
              "      <td>34.023998</td>\n",
              "      <td>35.548000</td>\n",
              "      <td>25300500.0</td>\n",
              "      <td>35.548000</td>\n",
              "    </tr>\n",
              "    <tr>\n",
              "      <th>2016-02-23</th>\n",
              "      <td>36.346001</td>\n",
              "      <td>34.736000</td>\n",
              "      <td>35.231998</td>\n",
              "      <td>35.442001</td>\n",
              "      <td>29922000.0</td>\n",
              "      <td>35.442001</td>\n",
              "    </tr>\n",
              "    <tr>\n",
              "      <th>2016-02-24</th>\n",
              "      <td>35.900002</td>\n",
              "      <td>33.568001</td>\n",
              "      <td>34.549999</td>\n",
              "      <td>35.799999</td>\n",
              "      <td>26978000.0</td>\n",
              "      <td>35.799999</td>\n",
              "    </tr>\n",
              "    <tr>\n",
              "      <th>2016-02-25</th>\n",
              "      <td>37.703999</td>\n",
              "      <td>35.040001</td>\n",
              "      <td>35.730000</td>\n",
              "      <td>37.486000</td>\n",
              "      <td>28753500.0</td>\n",
              "      <td>37.486000</td>\n",
              "    </tr>\n",
              "    <tr>\n",
              "      <th>...</th>\n",
              "      <td>...</td>\n",
              "      <td>...</td>\n",
              "      <td>...</td>\n",
              "      <td>...</td>\n",
              "      <td>...</td>\n",
              "      <td>...</td>\n",
              "    </tr>\n",
              "    <tr>\n",
              "      <th>2021-02-11</th>\n",
              "      <td>829.880005</td>\n",
              "      <td>801.729980</td>\n",
              "      <td>812.440002</td>\n",
              "      <td>811.659973</td>\n",
              "      <td>21580700.0</td>\n",
              "      <td>811.659973</td>\n",
              "    </tr>\n",
              "    <tr>\n",
              "      <th>2021-02-12</th>\n",
              "      <td>817.330017</td>\n",
              "      <td>785.330017</td>\n",
              "      <td>801.260010</td>\n",
              "      <td>816.119995</td>\n",
              "      <td>23701700.0</td>\n",
              "      <td>816.119995</td>\n",
              "    </tr>\n",
              "    <tr>\n",
              "      <th>2021-02-16</th>\n",
              "      <td>821.000000</td>\n",
              "      <td>792.440002</td>\n",
              "      <td>818.000000</td>\n",
              "      <td>796.219971</td>\n",
              "      <td>19686700.0</td>\n",
              "      <td>796.219971</td>\n",
              "    </tr>\n",
              "    <tr>\n",
              "      <th>2021-02-17</th>\n",
              "      <td>799.840027</td>\n",
              "      <td>762.010010</td>\n",
              "      <td>779.090027</td>\n",
              "      <td>798.150024</td>\n",
              "      <td>25996500.0</td>\n",
              "      <td>798.150024</td>\n",
              "    </tr>\n",
              "    <tr>\n",
              "      <th>2021-02-18</th>\n",
              "      <td>794.690002</td>\n",
              "      <td>776.270020</td>\n",
              "      <td>780.900024</td>\n",
              "      <td>787.380005</td>\n",
              "      <td>17897000.0</td>\n",
              "      <td>787.380005</td>\n",
              "    </tr>\n",
              "  </tbody>\n",
              "</table>\n",
              "<p>1259 rows × 6 columns</p>\n",
              "</div>"
            ],
            "text/plain": [
              "                  High         Low  ...      Volume   Adj Close\n",
              "Date                                ...                        \n",
              "2016-02-19   33.498001   32.500000  ...  14797000.0   33.316002\n",
              "2016-02-22   35.782001   33.970001  ...  25300500.0   35.548000\n",
              "2016-02-23   36.346001   34.736000  ...  29922000.0   35.442001\n",
              "2016-02-24   35.900002   33.568001  ...  26978000.0   35.799999\n",
              "2016-02-25   37.703999   35.040001  ...  28753500.0   37.486000\n",
              "...                ...         ...  ...         ...         ...\n",
              "2021-02-11  829.880005  801.729980  ...  21580700.0  811.659973\n",
              "2021-02-12  817.330017  785.330017  ...  23701700.0  816.119995\n",
              "2021-02-16  821.000000  792.440002  ...  19686700.0  796.219971\n",
              "2021-02-17  799.840027  762.010010  ...  25996500.0  798.150024\n",
              "2021-02-18  794.690002  776.270020  ...  17897000.0  787.380005\n",
              "\n",
              "[1259 rows x 6 columns]"
            ]
          },
          "metadata": {
            "tags": []
          },
          "execution_count": 35
        }
      ]
    },
    {
      "cell_type": "code",
      "metadata": {
        "colab": {
          "base_uri": "https://localhost:8080/",
          "height": 431
        },
        "id": "jCxqV1CCdr2p",
        "outputId": "1fecd0ab-3d7a-4e5a-eccd-77a40de548d1"
      },
      "source": [
        "data_to_show2"
      ],
      "execution_count": 36,
      "outputs": [
        {
          "output_type": "execute_result",
          "data": {
            "text/html": [
              "<div>\n",
              "<style scoped>\n",
              "    .dataframe tbody tr th:only-of-type {\n",
              "        vertical-align: middle;\n",
              "    }\n",
              "\n",
              "    .dataframe tbody tr th {\n",
              "        vertical-align: top;\n",
              "    }\n",
              "\n",
              "    .dataframe thead th {\n",
              "        text-align: right;\n",
              "    }\n",
              "</style>\n",
              "<table border=\"1\" class=\"dataframe\">\n",
              "  <thead>\n",
              "    <tr style=\"text-align: right;\">\n",
              "      <th></th>\n",
              "      <th>High</th>\n",
              "      <th>Low</th>\n",
              "      <th>Open</th>\n",
              "      <th>Close</th>\n",
              "      <th>Volume</th>\n",
              "      <th>Adj Close</th>\n",
              "    </tr>\n",
              "    <tr>\n",
              "      <th>Date</th>\n",
              "      <th></th>\n",
              "      <th></th>\n",
              "      <th></th>\n",
              "      <th></th>\n",
              "      <th></th>\n",
              "      <th></th>\n",
              "    </tr>\n",
              "  </thead>\n",
              "  <tbody>\n",
              "    <tr>\n",
              "      <th>2016-02-19</th>\n",
              "      <td>91.400002</td>\n",
              "      <td>88.029999</td>\n",
              "      <td>89.980003</td>\n",
              "      <td>89.230003</td>\n",
              "      <td>14259200</td>\n",
              "      <td>89.230003</td>\n",
              "    </tr>\n",
              "    <tr>\n",
              "      <th>2016-02-22</th>\n",
              "      <td>93.110001</td>\n",
              "      <td>88.300003</td>\n",
              "      <td>90.750000</td>\n",
              "      <td>91.930000</td>\n",
              "      <td>16321800</td>\n",
              "      <td>91.930000</td>\n",
              "    </tr>\n",
              "    <tr>\n",
              "      <th>2016-02-23</th>\n",
              "      <td>92.489998</td>\n",
              "      <td>89.050003</td>\n",
              "      <td>91.400002</td>\n",
              "      <td>89.120003</td>\n",
              "      <td>12744400</td>\n",
              "      <td>89.120003</td>\n",
              "    </tr>\n",
              "    <tr>\n",
              "      <th>2016-02-24</th>\n",
              "      <td>91.760002</td>\n",
              "      <td>86.699997</td>\n",
              "      <td>88.500000</td>\n",
              "      <td>91.610001</td>\n",
              "      <td>15972800</td>\n",
              "      <td>91.610001</td>\n",
              "    </tr>\n",
              "    <tr>\n",
              "      <th>2016-02-25</th>\n",
              "      <td>94.809998</td>\n",
              "      <td>90.209999</td>\n",
              "      <td>91.080002</td>\n",
              "      <td>94.529999</td>\n",
              "      <td>17898800</td>\n",
              "      <td>94.529999</td>\n",
              "    </tr>\n",
              "    <tr>\n",
              "      <th>...</th>\n",
              "      <td>...</td>\n",
              "      <td>...</td>\n",
              "      <td>...</td>\n",
              "      <td>...</td>\n",
              "      <td>...</td>\n",
              "      <td>...</td>\n",
              "    </tr>\n",
              "    <tr>\n",
              "      <th>2021-02-11</th>\n",
              "      <td>565.929993</td>\n",
              "      <td>554.219971</td>\n",
              "      <td>564.440002</td>\n",
              "      <td>557.590027</td>\n",
              "      <td>2726700</td>\n",
              "      <td>557.590027</td>\n",
              "    </tr>\n",
              "    <tr>\n",
              "      <th>2021-02-12</th>\n",
              "      <td>561.250000</td>\n",
              "      <td>550.849976</td>\n",
              "      <td>556.940002</td>\n",
              "      <td>556.520020</td>\n",
              "      <td>2195900</td>\n",
              "      <td>556.520020</td>\n",
              "    </tr>\n",
              "    <tr>\n",
              "      <th>2021-02-16</th>\n",
              "      <td>563.630005</td>\n",
              "      <td>552.729980</td>\n",
              "      <td>557.289978</td>\n",
              "      <td>557.280029</td>\n",
              "      <td>2622400</td>\n",
              "      <td>557.280029</td>\n",
              "    </tr>\n",
              "    <tr>\n",
              "      <th>2021-02-17</th>\n",
              "      <td>555.250000</td>\n",
              "      <td>543.030029</td>\n",
              "      <td>550.989990</td>\n",
              "      <td>551.340027</td>\n",
              "      <td>2069600</td>\n",
              "      <td>551.340027</td>\n",
              "    </tr>\n",
              "    <tr>\n",
              "      <th>2021-02-18</th>\n",
              "      <td>550.000000</td>\n",
              "      <td>538.229980</td>\n",
              "      <td>549.000000</td>\n",
              "      <td>548.219971</td>\n",
              "      <td>2456200</td>\n",
              "      <td>548.219971</td>\n",
              "    </tr>\n",
              "  </tbody>\n",
              "</table>\n",
              "<p>1259 rows × 6 columns</p>\n",
              "</div>"
            ],
            "text/plain": [
              "                  High         Low  ...    Volume   Adj Close\n",
              "Date                                ...                      \n",
              "2016-02-19   91.400002   88.029999  ...  14259200   89.230003\n",
              "2016-02-22   93.110001   88.300003  ...  16321800   91.930000\n",
              "2016-02-23   92.489998   89.050003  ...  12744400   89.120003\n",
              "2016-02-24   91.760002   86.699997  ...  15972800   91.610001\n",
              "2016-02-25   94.809998   90.209999  ...  17898800   94.529999\n",
              "...                ...         ...  ...       ...         ...\n",
              "2021-02-11  565.929993  554.219971  ...   2726700  557.590027\n",
              "2021-02-12  561.250000  550.849976  ...   2195900  556.520020\n",
              "2021-02-16  563.630005  552.729980  ...   2622400  557.280029\n",
              "2021-02-17  555.250000  543.030029  ...   2069600  551.340027\n",
              "2021-02-18  550.000000  538.229980  ...   2456200  548.219971\n",
              "\n",
              "[1259 rows x 6 columns]"
            ]
          },
          "metadata": {
            "tags": []
          },
          "execution_count": 36
        }
      ]
    },
    {
      "cell_type": "code",
      "metadata": {
        "colab": {
          "base_uri": "https://localhost:8080/",
          "height": 431
        },
        "id": "s0w4-RtLh89P",
        "outputId": "8e608081-68e8-4ff6-859b-129871c49f66"
      },
      "source": [
        "adj_close = data[\"Adj Close\"]\r\n",
        "log_returns = np.log(adj_close/adj_close.shift(1))\r\n",
        "log_returns"
      ],
      "execution_count": 37,
      "outputs": [
        {
          "output_type": "execute_result",
          "data": {
            "text/html": [
              "<div>\n",
              "<style scoped>\n",
              "    .dataframe tbody tr th:only-of-type {\n",
              "        vertical-align: middle;\n",
              "    }\n",
              "\n",
              "    .dataframe tbody tr th {\n",
              "        vertical-align: top;\n",
              "    }\n",
              "\n",
              "    .dataframe thead th {\n",
              "        text-align: right;\n",
              "    }\n",
              "</style>\n",
              "<table border=\"1\" class=\"dataframe\">\n",
              "  <thead>\n",
              "    <tr style=\"text-align: right;\">\n",
              "      <th>Symbols</th>\n",
              "      <th>TSLA</th>\n",
              "      <th>NFLX</th>\n",
              "    </tr>\n",
              "    <tr>\n",
              "      <th>Date</th>\n",
              "      <th></th>\n",
              "      <th></th>\n",
              "    </tr>\n",
              "  </thead>\n",
              "  <tbody>\n",
              "    <tr>\n",
              "      <th>2016-02-19</th>\n",
              "      <td>NaN</td>\n",
              "      <td>NaN</td>\n",
              "    </tr>\n",
              "    <tr>\n",
              "      <th>2016-02-22</th>\n",
              "      <td>0.064846</td>\n",
              "      <td>0.029810</td>\n",
              "    </tr>\n",
              "    <tr>\n",
              "      <th>2016-02-23</th>\n",
              "      <td>-0.002986</td>\n",
              "      <td>-0.031044</td>\n",
              "    </tr>\n",
              "    <tr>\n",
              "      <th>2016-02-24</th>\n",
              "      <td>0.010050</td>\n",
              "      <td>0.027557</td>\n",
              "    </tr>\n",
              "    <tr>\n",
              "      <th>2016-02-25</th>\n",
              "      <td>0.046020</td>\n",
              "      <td>0.031377</td>\n",
              "    </tr>\n",
              "    <tr>\n",
              "      <th>...</th>\n",
              "      <td>...</td>\n",
              "      <td>...</td>\n",
              "    </tr>\n",
              "    <tr>\n",
              "      <th>2021-02-11</th>\n",
              "      <td>0.008463</td>\n",
              "      <td>-0.010703</td>\n",
              "    </tr>\n",
              "    <tr>\n",
              "      <th>2021-02-12</th>\n",
              "      <td>0.005480</td>\n",
              "      <td>-0.001921</td>\n",
              "    </tr>\n",
              "    <tr>\n",
              "      <th>2021-02-16</th>\n",
              "      <td>-0.024686</td>\n",
              "      <td>0.001365</td>\n",
              "    </tr>\n",
              "    <tr>\n",
              "      <th>2021-02-17</th>\n",
              "      <td>0.002421</td>\n",
              "      <td>-0.010716</td>\n",
              "    </tr>\n",
              "    <tr>\n",
              "      <th>2021-02-18</th>\n",
              "      <td>-0.013586</td>\n",
              "      <td>-0.005675</td>\n",
              "    </tr>\n",
              "  </tbody>\n",
              "</table>\n",
              "<p>1259 rows × 2 columns</p>\n",
              "</div>"
            ],
            "text/plain": [
              "Symbols         TSLA      NFLX\n",
              "Date                          \n",
              "2016-02-19       NaN       NaN\n",
              "2016-02-22  0.064846  0.029810\n",
              "2016-02-23 -0.002986 -0.031044\n",
              "2016-02-24  0.010050  0.027557\n",
              "2016-02-25  0.046020  0.031377\n",
              "...              ...       ...\n",
              "2021-02-11  0.008463 -0.010703\n",
              "2021-02-12  0.005480 -0.001921\n",
              "2021-02-16 -0.024686  0.001365\n",
              "2021-02-17  0.002421 -0.010716\n",
              "2021-02-18 -0.013586 -0.005675\n",
              "\n",
              "[1259 rows x 2 columns]"
            ]
          },
          "metadata": {
            "tags": []
          },
          "execution_count": 37
        }
      ]
    },
    {
      "cell_type": "code",
      "metadata": {
        "colab": {
          "base_uri": "https://localhost:8080/"
        },
        "id": "J7mGYb2miBm6",
        "outputId": "4449b21e-ae9c-4b09-98ab-cf2419baa3e6"
      },
      "source": [
        "log_returns.mean() * 250"
      ],
      "execution_count": 38,
      "outputs": [
        {
          "output_type": "execute_result",
          "data": {
            "text/plain": [
              "Symbols\n",
              "TSLA    0.628512\n",
              "NFLX    0.360783\n",
              "dtype: float64"
            ]
          },
          "metadata": {
            "tags": []
          },
          "execution_count": 38
        }
      ]
    },
    {
      "cell_type": "code",
      "metadata": {
        "colab": {
          "base_uri": "https://localhost:8080/",
          "height": 136
        },
        "id": "uxEVxpt0iV_U",
        "outputId": "5fb296cb-171e-40fc-ae71-f89505f5aa3a"
      },
      "source": [
        "log_returns.cov() * 250"
      ],
      "execution_count": 39,
      "outputs": [
        {
          "output_type": "execute_result",
          "data": {
            "text/html": [
              "<div>\n",
              "<style scoped>\n",
              "    .dataframe tbody tr th:only-of-type {\n",
              "        vertical-align: middle;\n",
              "    }\n",
              "\n",
              "    .dataframe tbody tr th {\n",
              "        vertical-align: top;\n",
              "    }\n",
              "\n",
              "    .dataframe thead th {\n",
              "        text-align: right;\n",
              "    }\n",
              "</style>\n",
              "<table border=\"1\" class=\"dataframe\">\n",
              "  <thead>\n",
              "    <tr style=\"text-align: right;\">\n",
              "      <th>Symbols</th>\n",
              "      <th>TSLA</th>\n",
              "      <th>NFLX</th>\n",
              "    </tr>\n",
              "    <tr>\n",
              "      <th>Symbols</th>\n",
              "      <th></th>\n",
              "      <th></th>\n",
              "    </tr>\n",
              "  </thead>\n",
              "  <tbody>\n",
              "    <tr>\n",
              "      <th>TSLA</th>\n",
              "      <td>0.329243</td>\n",
              "      <td>0.075343</td>\n",
              "    </tr>\n",
              "    <tr>\n",
              "      <th>NFLX</th>\n",
              "      <td>0.075343</td>\n",
              "      <td>0.160491</td>\n",
              "    </tr>\n",
              "  </tbody>\n",
              "</table>\n",
              "</div>"
            ],
            "text/plain": [
              "Symbols      TSLA      NFLX\n",
              "Symbols                    \n",
              "TSLA     0.329243  0.075343\n",
              "NFLX     0.075343  0.160491"
            ]
          },
          "metadata": {
            "tags": []
          },
          "execution_count": 39
        }
      ]
    },
    {
      "cell_type": "code",
      "metadata": {
        "colab": {
          "base_uri": "https://localhost:8080/",
          "height": 136
        },
        "id": "KGTJbuyyidrK",
        "outputId": "cca63210-dff7-46af-abbb-491c3f075ccd"
      },
      "source": [
        "log_returns.corr()"
      ],
      "execution_count": 40,
      "outputs": [
        {
          "output_type": "execute_result",
          "data": {
            "text/html": [
              "<div>\n",
              "<style scoped>\n",
              "    .dataframe tbody tr th:only-of-type {\n",
              "        vertical-align: middle;\n",
              "    }\n",
              "\n",
              "    .dataframe tbody tr th {\n",
              "        vertical-align: top;\n",
              "    }\n",
              "\n",
              "    .dataframe thead th {\n",
              "        text-align: right;\n",
              "    }\n",
              "</style>\n",
              "<table border=\"1\" class=\"dataframe\">\n",
              "  <thead>\n",
              "    <tr style=\"text-align: right;\">\n",
              "      <th>Symbols</th>\n",
              "      <th>TSLA</th>\n",
              "      <th>NFLX</th>\n",
              "    </tr>\n",
              "    <tr>\n",
              "      <th>Symbols</th>\n",
              "      <th></th>\n",
              "      <th></th>\n",
              "    </tr>\n",
              "  </thead>\n",
              "  <tbody>\n",
              "    <tr>\n",
              "      <th>TSLA</th>\n",
              "      <td>1.000000</td>\n",
              "      <td>0.327761</td>\n",
              "    </tr>\n",
              "    <tr>\n",
              "      <th>NFLX</th>\n",
              "      <td>0.327761</td>\n",
              "      <td>1.000000</td>\n",
              "    </tr>\n",
              "  </tbody>\n",
              "</table>\n",
              "</div>"
            ],
            "text/plain": [
              "Symbols      TSLA      NFLX\n",
              "Symbols                    \n",
              "TSLA     1.000000  0.327761\n",
              "NFLX     0.327761  1.000000"
            ]
          },
          "metadata": {
            "tags": []
          },
          "execution_count": 40
        }
      ]
    },
    {
      "cell_type": "code",
      "metadata": {
        "colab": {
          "base_uri": "https://localhost:8080/",
          "height": 623
        },
        "id": "lpzzq05MijqW",
        "outputId": "54a085be-5ab3-4333-d017-530d6aca799b"
      },
      "source": [
        "portfolio_returns = []\r\n",
        "portfolio_volatilities = []\r\n",
        "for x in range(1000):\r\n",
        "    weights = np.random.random(len(tickers))\r\n",
        "    weights /= np.sum(weights)\r\n",
        "    \r\n",
        "    portfolio_returns.append(np.sum(weights * log_returns.mean()) * 250)\r\n",
        "    portfolio_volatilities.append(np.sqrt(np.dot(weights.T, np.dot(log_returns.cov() * 250, weights))))\r\n",
        "                    \r\n",
        "portfolio_returns = np.array(portfolio_returns)\r\n",
        "portfolio_volatilities = np.array(portfolio_volatilities)\r\n",
        "                                  \r\n",
        "portfolio_returns[0]\r\n",
        "\r\n",
        "np.sum(weights * log_returns.mean()) * 250\r\n",
        "\r\n",
        "np.sqrt(np.dot(weights.T, np.dot(log_returns.cov() * 250, weights)))\r\n",
        "\r\n",
        "portfolios = pd.DataFrame({'Return': portfolio_returns, 'Volatility':portfolio_volatilities  })\r\n",
        "portfolios.plot(x='Volatility', y='Return', kind='scatter', figsize=(15,10));\r\n",
        "plt.xlabel('Expected Volatility')\r\n",
        "plt.ylabel('Expected Return')"
      ],
      "execution_count": 41,
      "outputs": [
        {
          "output_type": "execute_result",
          "data": {
            "text/plain": [
              "Text(0, 0.5, 'Expected Return')"
            ]
          },
          "metadata": {
            "tags": []
          },
          "execution_count": 41
        },
        {
          "output_type": "display_data",
          "data": {
            "image/png": "[encoded data removed]",
            "text/plain": [
              "<Figure size 1080x720 with 1 Axes>"
            ]
          },
          "metadata": {
            "tags": [],
            "needs_background": "light"
          }
        }
      ]
    }
  ]
}